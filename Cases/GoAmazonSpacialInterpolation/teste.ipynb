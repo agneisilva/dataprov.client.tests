{
 "cells": [
  {
   "cell_type": "code",
   "execution_count": 6,
   "metadata": {},
   "outputs": [],
   "source": [
    "from pyspark import SparkContext, SparkConf\n",
    "from pyspark.sql import SparkSession, SQLContext\n",
    "import os"
   ]
  },
  {
   "cell_type": "markdown",
   "metadata": {},
   "source": []
  },
  {
   "cell_type": "code",
   "execution_count": 7,
   "metadata": {},
   "outputs": [],
   "source": [
    "# set Java home\n",
    "os.environ[\"JAVA_HOME\"] = \"C:\\Program Files\\Java\\jre-1.8\""
   ]
  },
  {
   "cell_type": "code",
   "execution_count": 8,
   "metadata": {},
   "outputs": [],
   "source": [
    "conf = SparkConf() \\\n",
    "    .setAppName(\"Example\") \\\n",
    "    .setMaster(\"local\") \\\n",
    "    .set(\"spark.driver.extraClassPath\",\"C:/pyspark/*\")"
   ]
  },
  {
   "cell_type": "code",
   "execution_count": 9,
   "metadata": {},
   "outputs": [],
   "source": [
    "sc = SparkContext.getOrCreate(conf=conf)\n",
    "spark = SparkSession(sc)"
   ]
  },
  {
   "cell_type": "code",
   "execution_count": 10,
   "metadata": {},
   "outputs": [
    {
     "data": {
      "text/html": [
       "\n",
       "            <div>\n",
       "                <p><b>SparkSession - in-memory</b></p>\n",
       "                \n",
       "        <div>\n",
       "            <p><b>SparkContext</b></p>\n",
       "\n",
       "            <p><a href=\"http://agneisilva:4040\">Spark UI</a></p>\n",
       "\n",
       "            <dl>\n",
       "              <dt>Version</dt>\n",
       "                <dd><code>v3.4.1</code></dd>\n",
       "              <dt>Master</dt>\n",
       "                <dd><code>local</code></dd>\n",
       "              <dt>AppName</dt>\n",
       "                <dd><code>PySpark</code></dd>\n",
       "            </dl>\n",
       "        </div>\n",
       "        \n",
       "            </div>\n",
       "        "
      ],
      "text/plain": [
       "<pyspark.sql.session.SparkSession at 0x2306d90ce10>"
      ]
     },
     "execution_count": 10,
     "metadata": {},
     "output_type": "execute_result"
    }
   ],
   "source": [
    "spark"
   ]
  },
  {
   "cell_type": "code",
   "execution_count": null,
   "metadata": {},
   "outputs": [],
   "source": [
    "df=spark.read.options(delimiter=\",\", header=True).csv(r\"C:\\Users\\agnei\\Downloads\\Notebooks-20230831T173623Z-001\\Notebooks\\1 - Script Dataset\\Bioclimatic_dataset_dry.csv\")\n",
    "df.show(10)"
   ]
  },
  {
   "cell_type": "code",
   "execution_count": null,
   "metadata": {},
   "outputs": [],
   "source": [
    "import pandas as pd\n",
    "\n",
    "df_pd = pd.read_excel(r\"C:\\Users\\agnei\\Downloads\\Notebooks-20230831T173623Z-001\\Notebooks\\3 - Generate Dataset\\portalbio_export_16-08-2020-20-20-34.xlsx\")\n"
   ]
  },
  {
   "cell_type": "code",
   "execution_count": 28,
   "metadata": {},
   "outputs": [],
   "source": [
    "df_pd.to_csv(r\"C:\\Users\\agnei\\Downloads\\Notebooks-20230831T173623Z-001\\Notebooks\\3 - Generate Dataset\\portalbio_export_16-08-2020-20-20-34.csv\")"
   ]
  },
  {
   "cell_type": "code",
   "execution_count": null,
   "metadata": {},
   "outputs": [],
   "source": []
  },
  {
   "cell_type": "code",
   "execution_count": 29,
   "metadata": {},
   "outputs": [
    {
     "name": "stdout",
     "output_type": "stream",
     "text": [
      "+---+-------------------+--------------------+---------------------+----------------------+-------------------------+----------------------------+-----------------------------------+----------------+--------------------+----------------+-------------------+---------------+--------------------------------+----------------+--------------------+---------------+----------+--------+----------+---------------+---------------+-------------------+---------------------+-------------------+--------------------+------+----------------+----------+-----------------------+--------+---------+--------------------------------+---------------+--------------------+\n",
      "|_c0|Nome da instituicao|Sigla da instituicao|Nome da base de dados|Sigla da base de dados|Responsavel pelo registro|Numero do registro no portal|Numero do registro na base de dados|Data do registro|      Data do evento|Data de Carencia|    Nome cientifico|     Nome comum|Nome cientifico na base de dados|Nivel taxonomico|Numero de individuos|          Reino|      Filo|  Classe|     Ordem|        Familia|         Genero|            Especie|Estado de conservacao|Categoria de Ameaca|          Localidade|  Pais|Estado/Provincia| Municipio|Status de Sensibilidade|Latitude|Longitude|Outras informacoes da localidade|     Jurisdicao| Destino do Material|\n",
      "+---+-------------------+--------------------+---------------------+----------------------+-------------------------+----------------------------+-----------------------------------+----------------+--------------------+----------------+-------------------+---------------+--------------------------------+----------------+--------------------+---------------+----------+--------+----------+---------------+---------------+-------------------+---------------------+-------------------+--------------------+------+----------------+----------+-----------------------+--------+---------+--------------------------------+---------------+--------------------+\n",
      "|  0|    Sem Informações|              ICMBio| Sistema de Autori...|          SISBIO-DIBIO|            Marcelo Menin|                      102953|               Nº Da Autorização...|      2012-05-09|10/05/2012 a 10/0...|      2017-09-25|Allobates sumtuosus|Sem Informações|             Allobates sumtuosus|         species|                   5|Sem Informações|  Chordata|Amphibia|     Anura|   Aromobatidae|      Allobates|Allobates sumtuosus| Espécie não Ameaçada|    Sem Informações|Reserva Florestal...|Brasil|              AM|    Manaus|   Espécie não Sensível|-2932219|-59970831|            Coordenada de ref...|Sem Informações|Depositado em col...|\n",
      "|  1|    Sem Informações|              ICMBio| Sistema de Autori...|          SISBIO-DIBIO|            Marcelo Menin|                      102954|               Nº Da Autorização...|      2012-05-09|10/05/2012 a 10/0...|      2017-09-25|Allobates sumtuosus|Sem Informações|             Allobates sumtuosus|         species|                   6|Sem Informações|  Chordata|Amphibia|     Anura|   Aromobatidae|      Allobates|Allobates sumtuosus| Espécie não Ameaçada|    Sem Informações|Reserva Florestal...|Brasil|              AM|    Manaus|   Espécie não Sensível|-2932219|-59970831|            Coordenada de ref...|Sem Informações|Depositado em col...|\n",
      "|  2|    Sem Informações|              ICMBio| Sistema de Autori...|          SISBIO-DIBIO|            Marcelo Menin|                      102955|               Nº Da Autorização...|      2012-03-18|19/03/2012 a 19/0...|      2017-09-25|Allobates sumtuosus|Sem Informações|             Allobates sumtuosus|         species|                   6|Sem Informações|  Chordata|Amphibia|     Anura|   Aromobatidae|      Allobates|Allobates sumtuosus| Espécie não Ameaçada|    Sem Informações|Reserva Florestal...|Brasil|              AM|    Manaus|   Espécie não Sensível|-2932219|-59970831|            Coordenada de ref...|Sem Informações|Depositado em col...|\n",
      "|  3|    Sem Informações|              ICMBio| Sistema de Autori...|          SISBIO-DIBIO|            Marcelo Menin|                      102958|               Nº Da Autorização...|      2012-05-13|14/05/2012 a 14/0...|      2017-09-25|Allobates sumtuosus|Sem Informações|             Allobates sumtuosus|         species|                   3|Sem Informações|  Chordata|Amphibia|     Anura|   Aromobatidae|      Allobates|Allobates sumtuosus| Espécie não Ameaçada|    Sem Informações|Reserva Florestal...|Brasil|              AM|    Manaus|   Espécie não Sensível|-2932219|-59970831|            Coordenada de ref...|Sem Informações|Depositado em col...|\n",
      "|  4|    Sem Informações|              ICMBio| Sistema de Autori...|          SISBIO-DIBIO|            Marcelo Menin|                      102960|               Nº Da Autorização...|      2012-03-21|22/03/2012 a 22/0...|      2017-09-25|Allobates sumtuosus|Sem Informações|             Allobates sumtuosus|         species|                   6|Sem Informações|  Chordata|Amphibia|     Anura|   Aromobatidae|      Allobates|Allobates sumtuosus| Espécie não Ameaçada|    Sem Informações|Reserva Florestal...|Brasil|              AM|    Manaus|   Espécie não Sensível|-2932219|-59970831|            Coordenada de ref...|Sem Informações|Depositado em col...|\n",
      "|  5|    Sem Informações|              ICMBio| Sistema de Autori...|          SISBIO-DIBIO|            Marcelo Menin|                      102983|               Nº Da Autorização...|      2012-03-14|15/03/2012 a 15/0...|      2017-09-25|Allobates sumtuosus|Sem Informações|             Allobates sumtuosus|         species|                   1|Sem Informações|  Chordata|Amphibia|     Anura|   Aromobatidae|      Allobates|Allobates sumtuosus| Espécie não Ameaçada|    Sem Informações|Reserva Florestal...|Brasil|              AM|    Manaus|   Espécie não Sensível|-2932219|-59970831|            Coordenada de ref...|Sem Informações|Depositado em col...|\n",
      "|  6|    Sem Informações|              ICMBio| Sistema de Autori...|          SISBIO-DIBIO|     Lúcia Massutti De...|                      102995|               Nº Da Autorização...|      2009-12-18|19/12/2009 a 19/1...|      2017-06-27|         Histeridae|Sem Informações|                      Histeridae|          family|                   1|Sem Informações|Arthropoda| Insecta|Coleoptera|     Histeridae|Sem Informações|    Sem Informações| Espécie não Ameaçada|    Sem Informações|Reserva Florestal...|Brasil|              AM|    Manaus|   Espécie não Sensível|-2959842|-59929044|            Coordenada aproxi...|Sem Informações|Depositado em col...|\n",
      "|  7|    Sem Informações|              ICMBio| Sistema de Autori...|          SISBIO-DIBIO|     Lúcia Massutti De...|                      102996|               Nº Da Autorização...|      2009-12-18|19/12/2009 a 19/1...|      2017-06-27|          Hemiptera|Sem Informações|                       Hemiptera|           order|                   1|Sem Informações|Arthropoda| Insecta| Hemiptera|Sem Informações|Sem Informações|    Sem Informações| Espécie não Ameaçada|    Sem Informações|Reserva Florestal...|Brasil|              AM|    Manaus|   Espécie não Sensível|-2959842|-59929047|            Coordenada aproxi...|Sem Informações|Depositado em col...|\n",
      "|  8|    Sem Informações|              ICMBio| Sistema de Autori...|          SISBIO-DIBIO|     Lúcia Massutti De...|                      102997|               Nº Da Autorização...|      2009-12-18|19/12/2009 a 19/1...|      2017-06-27|            Diptera|Sem Informações|                         Diptera|           order|                   1|Sem Informações|Arthropoda| Insecta|   Diptera|Sem Informações|Sem Informações|    Sem Informações| Espécie não Ameaçada|    Sem Informações|Reserva Florestal...|Brasil|              AM|    Manaus|   Espécie não Sensível|-2959842|-59929047|            Coordenada aproxi...|Sem Informações|Depositado em col...|\n",
      "|  9|    Sem Informações|              ICMBio| Sistema de Autori...|          SISBIO-DIBIO|     Lúcia Massutti De...|                      102998|               Nº Da Autorização...|      2008-08-24|25/08/2008 a 25/0...|      2017-06-27|       Scarabaeidae|Sem Informações|                    Scarabaeidae|          family|                   1|Sem Informações|Arthropoda| Insecta|Coleoptera|   Scarabaeidae|Sem Informações|    Sem Informações| Espécie não Ameaçada|    Sem Informações|Arredores De Novo...|Brasil|              AM|Novo Airao|   Espécie não Sensível|-2633706|-60941528|            Coordenada aproxi...|Sem Informações|Depositado em col...|\n",
      "+---+-------------------+--------------------+---------------------+----------------------+-------------------------+----------------------------+-----------------------------------+----------------+--------------------+----------------+-------------------+---------------+--------------------------------+----------------+--------------------+---------------+----------+--------+----------+---------------+---------------+-------------------+---------------------+-------------------+--------------------+------+----------------+----------+-----------------------+--------+---------+--------------------------------+---------------+--------------------+\n",
      "only showing top 10 rows\n",
      "\n"
     ]
    }
   ],
   "source": [
    "df=spark.read.options(delimiter=\",\", header=True).csv(r\"C:\\Users\\agnei\\Downloads\\Notebooks-20230831T173623Z-001\\Notebooks\\3 - Generate Dataset\\portalbio_export_16-08-2020-20-20-34.csv\")\n",
    "df.show(10)"
   ]
  },
  {
   "cell_type": "code",
   "execution_count": 33,
   "metadata": {},
   "outputs": [],
   "source": [
    "def roundCoord(x, y):\n",
    "    return x/(10**(len(str(x))-4))"
   ]
  },
  {
   "cell_type": "code",
   "execution_count": 34,
   "metadata": {},
   "outputs": [
    {
     "name": "stdout",
     "output_type": "stream",
     "text": [
      "root\n",
      " |-- Data do registro: string (nullable = true)\n",
      " |-- Nome cientifico: string (nullable = true)\n",
      " |-- Nome comum: string (nullable = true)\n",
      " |-- Nivel taxonomico: string (nullable = true)\n",
      " |-- Numero de individuos: string (nullable = true)\n",
      " |-- Reino: string (nullable = true)\n",
      " |-- Filo: string (nullable = true)\n",
      " |-- Classe: string (nullable = true)\n",
      " |-- Ordem: string (nullable = true)\n",
      " |-- Familia: string (nullable = true)\n",
      " |-- Genero: string (nullable = true)\n",
      " |-- Especie: string (nullable = true)\n",
      " |-- Localidade: string (nullable = true)\n",
      " |-- Pais: string (nullable = true)\n",
      " |-- Estado/Provincia: string (nullable = true)\n",
      " |-- Municipio: string (nullable = true)\n",
      " |-- Latitude: string (nullable = true)\n",
      " |-- Longitude: string (nullable = true)\n",
      "\n"
     ]
    }
   ],
   "source": [
    "df.printSchema()\n"
   ]
  },
  {
   "cell_type": "code",
   "execution_count": 43,
   "metadata": {},
   "outputs": [
    {
     "name": "stdout",
     "output_type": "stream",
     "text": [
      "+----------------+-------------------+---------------+----------------+--------------------+---------------+--------+--------+-----+------------+---------+-------------------+-------------------------------+------+----------------+---------+--------+---------+------------+\n",
      "|Data do registro|Nome cientifico    |Nome comum     |Nivel taxonomico|Numero de individuos|Reino          |Filo    |Classe  |Ordem|Familia     |Genero   |Especie            |Localidade                     |Pais  |Estado/Provincia|Municipio|Latitude|Longitude|latlter     |\n",
      "+----------------+-------------------+---------------+----------------+--------------------+---------------+--------+--------+-----+------------+---------+-------------------+-------------------------------+------+----------------+---------+--------+---------+------------+\n",
      "|2012-05-09      |Allobates sumtuosus|Sem Informações|species         |5                   |Sem Informações|Chordata|Amphibia|Anura|Aromobatidae|Allobates|Allobates sumtuosus|Reserva Florestal Adolpho Ducke|Brasil|AM              |Manaus   |-2932219|-59970831|-2.932219E-8|\n",
      "|2012-05-09      |Allobates sumtuosus|Sem Informações|species         |6                   |Sem Informações|Chordata|Amphibia|Anura|Aromobatidae|Allobates|Allobates sumtuosus|Reserva Florestal Adolpho Ducke|Brasil|AM              |Manaus   |-2932219|-59970831|-2.932219E-8|\n",
      "+----------------+-------------------+---------------+----------------+--------------------+---------------+--------+--------+-----+------------+---------+-------------------+-------------------------------+------+----------------+---------+--------+---------+------------+\n",
      "only showing top 2 rows\n",
      "\n",
      "+----------------+-------------------+---------------+----------------+--------------------+---------------+--------+--------+-----+------------+---------+-------------------+-------------------------------+------+----------------+---------+--------+---------+-------------+\n",
      "|Data do registro|Nome cientifico    |Nome comum     |Nivel taxonomico|Numero de individuos|Reino          |Filo    |Classe  |Ordem|Familia     |Genero   |Especie            |Localidade                     |Pais  |Estado/Provincia|Municipio|Latitude|Longitude|loglter      |\n",
      "+----------------+-------------------+---------------+----------------+--------------------+---------------+--------+--------+-----+------------+---------+-------------------+-------------------------------+------+----------------+---------+--------+---------+-------------+\n",
      "|2012-05-09      |Allobates sumtuosus|Sem Informações|species         |5                   |Sem Informações|Chordata|Amphibia|Anura|Aromobatidae|Allobates|Allobates sumtuosus|Reserva Florestal Adolpho Ducke|Brasil|AM              |Manaus   |-2932219|-59970831|-5.9970831E-8|\n",
      "|2012-05-09      |Allobates sumtuosus|Sem Informações|species         |6                   |Sem Informações|Chordata|Amphibia|Anura|Aromobatidae|Allobates|Allobates sumtuosus|Reserva Florestal Adolpho Ducke|Brasil|AM              |Manaus   |-2932219|-59970831|-5.9970831E-8|\n",
      "+----------------+-------------------+---------------+----------------+--------------------+---------------+--------+--------+-----+------------+---------+-------------------+-------------------------------+------+----------------+---------+--------+---------+-------------+\n",
      "only showing top 2 rows\n",
      "\n"
     ]
    }
   ],
   "source": [
    "df.withColumn(\"latlter\", roundCoord(col(\"Latitude\"), 4)) \\\n",
    "  .show(2, truncate=False)\n",
    "\n",
    "df.withColumn(\"loglter\", roundCoord(col(\"Longitude\"), 5)) \\\n",
    "  .show(2, truncate=False)"
   ]
  },
  {
   "cell_type": "code",
   "execution_count": 48,
   "metadata": {},
   "outputs": [],
   "source": [
    "df = pd.read_excel(r'C:\\Users\\agnei\\Downloads\\Notebooks-20230831T173623Z-001\\Notebooks\\3 - Generate Dataset\\GBIF_occu.xlsx')\n",
    "        \n",
    "# Select columns\n",
    "df = df[['eventDate','stateProvince','county','municipality','locality','decimalLatitude','decimalLongitude','kingdom','phylum','class','order','family','genus','species']]\n",
    "df = df.rename(columns={'eventDate':'date', 'decimalLatitude':'latitude', 'decimalLongitude':'longitude'})\n",
    "df = df[['date','latitude','longitude','species']]\n",
    "        \n",
    "# Round coordinates\n",
    "#df['latitude'] = df['latitude'].apply(lambda x: x/(10**(len(str(x))-4)))\n",
    "#df['longitude'] = df['longitude'].apply(lambda x: x/(10**(len(str(x))-5)))"
   ]
  },
  {
   "cell_type": "code",
   "execution_count": null,
   "metadata": {},
   "outputs": [],
   "source": [
    "df.to_csv(r'C:\\Users\\agnei\\Downloads\\Notebooks-20230831T173623Z-001\\Notebooks\\3 - Generate Dataset\\GBIF_occu.csv')"
   ]
  }
 ],
 "metadata": {
  "kernelspec": {
   "display_name": "Python 3",
   "language": "python",
   "name": "python3"
  },
  "language_info": {
   "codemirror_mode": {
    "name": "ipython",
    "version": 3
   },
   "file_extension": ".py",
   "mimetype": "text/x-python",
   "name": "python",
   "nbconvert_exporter": "python",
   "pygments_lexer": "ipython3",
   "version": "3.12.5"
  },
  "orig_nbformat": 4
 },
 "nbformat": 4,
 "nbformat_minor": 2
}
